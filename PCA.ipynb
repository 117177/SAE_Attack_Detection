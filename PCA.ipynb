{
 "cells": [
  {
   "cell_type": "code",
   "execution_count": 1,
   "metadata": {},
   "outputs": [],
   "source": [
    "from keras.layers import Input, Dense\n",
    "from keras.models import Model, load_model\n",
    "from keras import backend as K\n",
    "import numpy as np\n",
    "import pandas as pd\n",
    "import matplotlib.pyplot as plt\n",
    "import os\n",
    "import seaborn as sns\n",
    "from keras.callbacks import *\n",
    "from keras import regularizers\n",
    "from keras import optimizers\n",
    "# sklearn\n",
    "from sklearn.model_selection import train_test_split\n",
    "# from sklearn.metrics import mean_squared_error\n",
    "from sklearn.metrics import accuracy_score, f1_score, confusion_matrix, auc, precision_score, recall_score,fbeta_score\n",
    "from sklearn.preprocessing import MinMaxScaler\n",
    "from sklearn import preprocessing\n",
    "from sklearn.datasets import make_classification  \n",
    "from sklearn.decomposition import PCA\n",
    "import sys\n",
    "import string\n",
    "from collections import Counter\n",
    "from nltk import ngrams\n",
    "import itertools\n",
    "import random\n",
    "# other\n",
    "import time\n",
    "import csv"
   ]
  },
  {
   "cell_type": "code",
   "execution_count": 2,
   "metadata": {},
   "outputs": [],
   "source": [
    "# load training dataset\n",
    "data_path = \"./data/\"\n",
    "df_train_orig = pd.read_csv(data_path + \"dataset03.csv\", parse_dates = ['DATETIME'], dayfirst=True)"
   ]
  },
  {
   "cell_type": "code",
   "execution_count": 3,
   "metadata": {},
   "outputs": [],
   "source": [
    "# Load dataset with attacks\n",
    "df_test_01 = pd.read_csv(data_path + \"dataset04.csv\", parse_dates = ['DATETIME'], dayfirst=True)\n",
    "df_test_02 = pd.read_csv(data_path + \"test_dataset.csv\", parse_dates = ['DATETIME'], dayfirst=True)"
   ]
  },
  {
   "cell_type": "code",
   "execution_count": 4,
   "metadata": {},
   "outputs": [],
   "source": [
    "#dftrain1=df_train_orig.drop(['S_PU1','S_PU2','S_PU3','S_PU4','S_PU5','S_PU6','S_PU7','S_PU8','S_PU9','S_PU10','S_PU11','S_V2'])\n",
    "#dftrain2=df_test_01.drop([' S_PU1',' S_PU2',' S_PU3',' S_PU4',' S_PU5',' S_PU6',' S_PU7',' S_PU8', ' S_PU9',' S_PU10',' S_PU11',' S_V2'])\n",
    "#dftest=df_test_02.drop(['S_PU1','S_PU2','S_PU3','S_PU4','S_PU5','S_PU6','S_PU7','S_PU8','S_PU9','S_PU10','S_PU11','S_V2'])"
   ]
  },
  {
   "cell_type": "code",
   "execution_count": 5,
   "metadata": {},
   "outputs": [],
   "source": [
    "#sensor_cols = [col for col in df_train_orig.columns if col not in ['DATETIME','ATT_FLAG']]\n",
    "dftrain1=df_train_orig.set_index('DATETIME')\n",
    "dftrain2=df_test_01.set_index('DATETIME')\n",
    "dftest=df_test_02.set_index('DATETIME')\n",
    "#scaler = MinMaxScaler()\n",
    "Y3 = df_test_01['ATT_FLAG']\n",
    "Y4 = df_test_02['ATT_FLAG']"
   ]
  },
  {
   "cell_type": "code",
   "execution_count": 6,
   "metadata": {},
   "outputs": [],
   "source": [
    "train1_=dftrain1\n",
    "train2_=dftrain2\n",
    "test_=dftest\n",
    "train1_.iloc[:,range(0,31)]=preprocessing.scale(dftrain1.iloc[:,range(0,31)])\n",
    "train2_.iloc[:,range(0,31)]=preprocessing.scale(dftrain2.iloc[:,range(0,31)])\n",
    "test_.iloc[:,range(0,31)]=preprocessing.scale(dftest.iloc[:,range(0,31)])"
   ]
  },
  {
   "cell_type": "code",
   "execution_count": 7,
   "metadata": {},
   "outputs": [],
   "source": [
    "#Creating the function\n",
    "def pca_reverse_trasformation(n_components,random_state,df):\n",
    "    #Creating PCA model\n",
    "    pca = PCA(n_components=n_components, whiten=False, random_state=random_state)\n",
    "    #Applyting PCA transformation to dataset\n",
    "    df_PCA = pca.fit_transform(df)\n",
    "    #Saving in a dataframe format\n",
    "    df_PCA = pd.DataFrame(data=df_PCA, index=df.index)\n",
    "    #Reversing the PCA\n",
    "    df_PCA_inverse = pca.inverse_transform(df_PCA)\n",
    "    #Saving in a dataframe format\n",
    "    df_PCA_inverse = pd.DataFrame(data=df_PCA_inverse,index=df.index)\n",
    "    return df_PCA_inverse\n",
    "\n",
    "#Applying the function\n",
    "n_components = 10\n",
    "random_state = 27\n",
    "df=train1_\n",
    "dftrain1_PCA_inverse=pca_reverse_trasformation(n_components,random_state,df)"
   ]
  },
  {
   "cell_type": "code",
   "execution_count": 8,
   "metadata": {},
   "outputs": [],
   "source": [
    "def residuals_pca(original_column,pca_column):\n",
    "    #Creating DF with the selected column from the transformed dataset\n",
    "    PCA_df=pd.DataFrame(data=pca_column,index=pca_column.index)\n",
    "    PCA_df.columns = ['transformed']\n",
    "    PCA_df[\"original\"]=original_column\n",
    "    #Calculating the residuals\n",
    "    PCA_df[\"residuals\"]=PCA_df[\"original\"]-PCA_df['transformed']\n",
    "    return  PCA_df"
   ]
  },
  {
   "cell_type": "code",
   "execution_count": 9,
   "metadata": {},
   "outputs": [],
   "source": [
    "def AnomalyScore(originalDF, reducedDF):\n",
    "    #Calculating the square loss\n",
    "    loss = np.sum((np.array(originalDF)-np.array(reducedDF))**2, axis=1)\n",
    "    #Changing format\n",
    "    loss = pd.Series(data=loss,index=originalDF.index)\n",
    "    #Scaling between 0 and 1\n",
    "    loss = (loss-np.min(loss))/(np.max(loss)-np.min(loss))\n",
    "    return loss"
   ]
  },
  {
   "cell_type": "code",
   "execution_count": 10,
   "metadata": {},
   "outputs": [],
   "source": [
    "def AnomalyValue(originalDF, reducedDF):\n",
    "    #Calculating the square loss\n",
    "    loss = np.sum((np.array(originalDF)-np.array(reducedDF))**2, axis=1)\n",
    "    #Changing format\n",
    "    loss = pd.Series(data=loss,index=originalDF.index)\n",
    "    return loss"
   ]
  },
  {
   "cell_type": "code",
   "execution_count": 11,
   "metadata": {},
   "outputs": [],
   "source": [
    "def pca_predict(dataset,truelabels,n_pca_components,threshold,Anomaly=\"Scores\"):\n",
    "   \n",
    "    #One random number was picked for the random state\n",
    "    random_state=27\n",
    "    ###Generating the model for the data set###\n",
    "    dataset_PCA_inverse=pca_reverse_trasformation(n_pca_components,random_state,dataset)\n",
    "\n",
    "    ###Anomaly scores\n",
    "    if Anomaly==\"Scores\":\n",
    "        #Using anomaly scores\n",
    "        AnomalyScoresPCA=AnomalyScore(dataset, dataset_PCA_inverse)\n",
    "        AnomalyScoresPCA=pd.Series.to_frame(AnomalyScoresPCA)\n",
    "        AnomalyScoresPCA.columns=[\"AnomalyScore\"]\n",
    "    else:\n",
    "        ###Using Anomaly values\n",
    "        AnomalyScoresPCA=AnomalyScore(dataset, dataset_PCA_inverse)\n",
    "        AnomalyScoresPCA=pd.Series.to_frame(AnomalyScoresPCA)\n",
    "        AnomalyScoresPCA.columns=[\"AnomalyScore\"]\n",
    "    \n",
    "    ###Predicting\n",
    "    AnomalyScoresPCA['predictions']=AnomalyScoresPCA['AnomalyScore'].apply(lambda x: 1 if x>threshold else 0)\n",
    "    \n",
    "    ###Calculating the performance\n",
    "    cm=confusion_matrix(list(truelabels), list(AnomalyScoresPCA['predictions']))\n",
    "    if cm.shape==(3,3):\n",
    "        cm=cm[(0,2),1:]\n",
    "    #True positive, false positive, false negative and true positive\n",
    "    tn, fp, fn, tp = cm.ravel()\n",
    "    #Getting the ratios\n",
    "    recall=tp/(tp+fn)\n",
    "    precision=tp/(tp+fp)\n",
    "    accuracy=(tp+tn)/(tp+tn+fn+fp)\n",
    "    #F-score\n",
    "    F_score=fbeta_score(list(truelabels), list(AnomalyScoresPCA['predictions']), beta=0.5)\n",
    "    #Probability vector\n",
    "    performance={\"recall\":recall,\"precision\":precision,\"Accuracy\":accuracy,\"F_score\":F_score}\n",
    "    return cm,performance,AnomalyScoresPCA['predictions']"
   ]
  },
  {
   "cell_type": "code",
   "execution_count": 12,
   "metadata": {},
   "outputs": [],
   "source": [
    "def ploting_cm(cm):\n",
    "    \n",
    "    #Plot\n",
    "    ax= plt.subplot()\n",
    "    sns.heatmap(cm, annot=True,fmt='g', ax = ax); #annot=True to annotate cells\n",
    "\n",
    "    # labels, title and ticks\n",
    "    ax.set_xlabel('Predicted labels');ax.set_ylabel('True labels'); \n",
    "    ax.set_title('Confusion Matrix - PCA'); \n",
    "    ax.xaxis.set_ticklabels(['normal', 'anomaly']); ax.yaxis.set_ticklabels(['normal', 'anomaly'])"
   ]
  },
  {
   "cell_type": "code",
   "execution_count": 13,
   "metadata": {},
   "outputs": [
    {
     "data": {
      "text/plain": [
       "([<matplotlib.axis.XTick at 0x25b557b2850>,\n",
       "  <matplotlib.axis.XTick at 0x25b557b2820>,\n",
       "  <matplotlib.axis.XTick at 0x25b557a74c0>,\n",
       "  <matplotlib.axis.XTick at 0x25b557f7580>,\n",
       "  <matplotlib.axis.XTick at 0x25b557f7a90>,\n",
       "  <matplotlib.axis.XTick at 0x25b557f7fa0>,\n",
       "  <matplotlib.axis.XTick at 0x25b558064f0>,\n",
       "  <matplotlib.axis.XTick at 0x25b55806a00>,\n",
       "  <matplotlib.axis.XTick at 0x25b557f77f0>,\n",
       "  <matplotlib.axis.XTick at 0x25b55806640>,\n",
       "  <matplotlib.axis.XTick at 0x25b5580d100>,\n",
       "  <matplotlib.axis.XTick at 0x25b5580d610>,\n",
       "  <matplotlib.axis.XTick at 0x25b5580db20>,\n",
       "  <matplotlib.axis.XTick at 0x25b55812070>,\n",
       "  <matplotlib.axis.XTick at 0x25b55812580>,\n",
       "  <matplotlib.axis.XTick at 0x25b55812a90>,\n",
       "  <matplotlib.axis.XTick at 0x25b55812fa0>,\n",
       "  <matplotlib.axis.XTick at 0x25b558154f0>,\n",
       "  <matplotlib.axis.XTick at 0x25b558121c0>,\n",
       "  <matplotlib.axis.XTick at 0x25b5580d250>,\n",
       "  <matplotlib.axis.XTick at 0x25b558156a0>,\n",
       "  <matplotlib.axis.XTick at 0x25b55815a00>,\n",
       "  <matplotlib.axis.XTick at 0x25b55815f10>,\n",
       "  <matplotlib.axis.XTick at 0x25b5581e460>,\n",
       "  <matplotlib.axis.XTick at 0x25b5581e970>,\n",
       "  <matplotlib.axis.XTick at 0x25b5581eeb0>,\n",
       "  <matplotlib.axis.XTick at 0x25b55824400>,\n",
       "  <matplotlib.axis.XTick at 0x25b55824910>,\n",
       "  <matplotlib.axis.XTick at 0x25b5581e550>,\n",
       "  <matplotlib.axis.XTick at 0x25b55806610>,\n",
       "  <matplotlib.axis.XTick at 0x25b55824580>,\n",
       "  <matplotlib.axis.XTick at 0x25b55824fa0>,\n",
       "  <matplotlib.axis.XTick at 0x25b5582a580>,\n",
       "  <matplotlib.axis.XTick at 0x25b5582ab20>,\n",
       "  <matplotlib.axis.XTick at 0x25b5582e100>,\n",
       "  <matplotlib.axis.XTick at 0x25b5582e6a0>,\n",
       "  <matplotlib.axis.XTick at 0x25b5582ec40>,\n",
       "  <matplotlib.axis.XTick at 0x25b55834220>,\n",
       "  <matplotlib.axis.XTick at 0x25b5582e1f0>,\n",
       "  <matplotlib.axis.XTick at 0x25b55824c10>,\n",
       "  <matplotlib.axis.XTick at 0x25b558342e0>],\n",
       " <a list of 41 Text major ticklabel objects>)"
      ]
     },
     "execution_count": 13,
     "metadata": {},
     "output_type": "execute_result"
    },
    {
     "data": {
      "image/png": "[encoded data removed]",
      "text/plain": [
       "<Figure size 432x288 with 1 Axes>"
      ]
     },
     "metadata": {
      "needs_background": "light"
     },
     "output_type": "display_data"
    }
   ],
   "source": [
    "#Assigning random state\n",
    "random_state = 27\n",
    "#Creating dictinary to get all the sum of residuals for component\n",
    "SumOfResiduals=dict()\n",
    "#The dataframe that will be used for the model\n",
    "df=train1_\n",
    "\n",
    "#Looping through all the columns and getting the sum of residuals\n",
    "for n_components in range(2,int(len(df.columns)-1)):\n",
    "    dftrain1_PCA_inverse=pca_reverse_trasformation(n_components,random_state,df)\n",
    "    Sum_for_all_col=0\n",
    "    for col in df.columns:\n",
    "        Sum_for_all_col+=sum(residuals_pca(df[col],dftrain1_PCA_inverse[df.columns.get_loc(col)])['residuals'].apply(lambda x: abs(x)))\n",
    "    SumOfResiduals[n_components]=Sum_for_all_col\n",
    "    \n",
    "#Ploting the sum of residuals\n",
    "lists = sorted(SumOfResiduals.items()) # sorted by key, return a list of tuples\n",
    "\n",
    "x, y = zip(*lists) # unpack a list of pairs into two tuples\n",
    "\n",
    "plt.plot(x, y)\n",
    "plt.title('Sum of the Normalized Residuals')\n",
    "plt.xlabel('Number of components for the PCA')\n",
    "plt.ylabel('Sum of the Normalized Residuals for all Columns')\n",
    "plt.xticks(x)"
   ]
  },
  {
   "cell_type": "code",
   "execution_count": 14,
   "metadata": {},
   "outputs": [],
   "source": [
    "n_components=19\n",
    "dftrain1_PCA_inverse=pca_reverse_trasformation(n_components,random_state,df)\n",
    "df=train1_"
   ]
  },
  {
   "cell_type": "code",
   "execution_count": 15,
   "metadata": {},
   "outputs": [
    {
     "data": {
      "text/plain": [
       "Text(0, 0.5, 'Anomaly Values')"
      ]
     },
     "execution_count": 15,
     "metadata": {},
     "output_type": "execute_result"
    },
    {
     "data": {
      "image/png": "[encoded data removed]",
      "text/plain": [
       "<Figure size 432x288 with 1 Axes>"
      ]
     },
     "metadata": {
      "needs_background": "light"
     },
     "output_type": "display_data"
    }
   ],
   "source": [
    "#Calculating anomaly values\n",
    "anomaly_values=AnomalyValue(df, dftrain1_PCA_inverse)\n",
    "# Getting the threshold\n",
    "threshold_dftrain1=np.percentile(np.array(anomaly_values), 80, axis=0)\n",
    "#Ploting the anomalous values\n",
    "plt.plot(anomaly_values)\n",
    "plt.title('Anomaly Values for dftrain1')\n",
    "plt.xlabel('Time')\n",
    "plt.ylabel('Anomaly Values')"
   ]
  },
  {
   "cell_type": "code",
   "execution_count": 16,
   "metadata": {},
   "outputs": [],
   "source": [
    "def save_valid_label(arr, csv_filename=None):\n",
    "    \"\"\"Save the data in csv format\"\"\"\n",
    "    if csv_filename == None:\n",
    "        csv_filename=\"valid_label.csv\"\n",
    "    arr_df = pd.DataFrame(arr)\n",
    "    arr_df.to_csv(csv_filename, float_format='%.3f', index=False, header=False)\n"
   ]
  },
  {
   "cell_type": "code",
   "execution_count": 17,
   "metadata": {},
   "outputs": [],
   "source": [
    "def save_test_label(arr, csv_filename=None):\n",
    "    \"\"\"Save the data in csv format\"\"\"\n",
    "    if csv_filename == None:\n",
    "        csv_filename=\"test_label.csv\"\n",
    "    arr_df = pd.DataFrame(arr)\n",
    "    arr_df.to_csv(csv_filename, float_format='%.3f', index=False, header=False)"
   ]
  },
  {
   "cell_type": "code",
   "execution_count": 18,
   "metadata": {},
   "outputs": [
    {
     "name": "stdout",
     "output_type": "stream",
     "text": [
      "{'recall': 0.03048780487804878, 'precision': 0.8823529411764706, 'Accuracy': 0.8853243954991621, 'F_score': 0.13392857142857142}\n"
     ]
    },
    {
     "data": {
      "image/png": "[encoded data removed]",
      "text/plain": [
       "<Figure size 432x288 with 2 Axes>"
      ]
     },
     "metadata": {
      "needs_background": "light"
     },
     "output_type": "display_data"
    }
   ],
   "source": [
    "dataset=train2_.drop(['ATT_FLAG'],axis=1)\n",
    "truelabels=df_test_01['ATT_FLAG']\n",
    "n_pca_components=19\n",
    "threshold=threshold_dftrain1\n",
    "cm,performance,predictions=pca_predict(dataset,truelabels,n_pca_components,threshold,Anomaly=\"values\")\n",
    "#predictions = pd.DataFrame(predictions)\n",
    "\n",
    "save_valid_label(predictions)\n",
    "Yhat3 = pd.read_csv(data_path + \"valid_label.csv\")\n",
    "#valid_pred = predictions.drop(['DATATIME'],axis=1)\n",
    "ploting_cm(cm)\n",
    "#(pd.DataFrame(PCA_model_trainset2)).drop(['DATATIME'],axis=1)\n",
    "#print(PCA_model_trainset2[1])\n",
    "print(performance)\n",
    "#print(predictions)"
   ]
  },
  {
   "cell_type": "code",
   "execution_count": 19,
   "metadata": {},
   "outputs": [],
   "source": [
    "dataset1=test_.drop(['ATT_FLAG'],axis=1)\n",
    "truelabels1=df_test_02['ATT_FLAG']\n",
    "n_pca_components=19\n",
    "threshold=threshold_dftrain1\n",
    "cm1,performance1,predictions1=pca_predict(dataset1,truelabels1,n_pca_components,threshold,Anomaly=\"values\")"
   ]
  },
  {
   "cell_type": "code",
   "execution_count": 20,
   "metadata": {},
   "outputs": [
    {
     "name": "stdout",
     "output_type": "stream",
     "text": [
      "{'recall': 0.10319410319410319, 'precision': 1.0, 'Accuracy': 0.8252752513164193, 'F_score': 0.3652173913043478}\n"
     ]
    },
    {
     "data": {
      "image/png": "[encoded data removed]",
      "text/plain": [
       "<Figure size 432x288 with 2 Axes>"
      ]
     },
     "metadata": {
      "needs_background": "light"
     },
     "output_type": "display_data"
    }
   ],
   "source": [
    "save_test_label(predictions1)\n",
    "Yhat4 = pd.read_csv(data_path + \"test_label.csv\")\n",
    "ploting_cm(cm1)\n",
    "print(performance1)"
   ]
  },
  {
   "cell_type": "code",
   "execution_count": null,
   "metadata": {},
   "outputs": [],
   "source": []
  },
  {
   "cell_type": "code",
   "execution_count": 21,
   "metadata": {},
   "outputs": [
    {
     "data": {
      "image/png": "[encoded data removed]",
      "text/plain": [
       "<Figure size 720x432 with 2 Axes>"
      ]
     },
     "metadata": {
      "needs_background": "light"
     },
     "output_type": "display_data"
    },
    {
     "data": {
      "text/plain": [
       "<Figure size 432x288 with 0 Axes>"
      ]
     },
     "metadata": {},
     "output_type": "display_data"
    }
   ],
   "source": [
    "# plot figures\n",
    "font2 = {'family' : 'SimHei',#Times New Roman\n",
    "        'weight' : 'normal',\n",
    "        'size'   : 10,\n",
    "            }\n",
    "font1 = {'family' : 'Times New Roman',\n",
    "        'weight' : 'normal',\n",
    "        'size'   : 6,\n",
    "            }\n",
    "shade_of_gray = '0.5'\n",
    "f_PCA, axes = plt.subplots(2,figsize = (10,6))\n",
    "axes[0].plot(Yhat3, color = 'r', label = '预测标签')#shade_of_gray\n",
    "#axes[0].fill_between(Yhat3.index, Yhat3.values, where=Yhat3.values <=1, interpolate=True, color='r')\n",
    "axes[0].plot(Y3, color = 'b', alpha = 0.75, lw = 2, label = '实际标签')\n",
    "#axes[0].set_title('validation set', font2,loc='left')\n",
    "#axes[0].set_xlabel('Time/h',font2)\n",
    "axes[0].set_yticks([0,1])\n",
    "axes[0].set_yticklabels(['无攻击','攻击'],font2)\n",
    "axes[0].legend(loc='upper left',prop=font2)\n",
    "#axes[0].legend(fontsize = 12, loc = 2, bbox_to_anchor=(1.05,1.0),borderaxespad = 0.)\n",
    "\n",
    "axes[1].plot(Yhat4, color = 'r', label = '预测标签')\n",
    "#axes[1].fill_between(Yhat4.index, Yhat4.values, where=Yhat4.values <=1, interpolate=True, color='r')\n",
    "axes[1].plot(Y4, color = 'b', alpha = 0.75, lw = 2, label = '实际标签')\n",
    "#axes[1].set_title('test set', font2,loc='left')\n",
    "#axes[1].set_xlabel('Time/h',font2)\n",
    "axes[1].set_yticks([0,1])\n",
    "axes[1].set_yticklabels(['无攻击','攻击'],font2\n",
    "axes[1].set_xlabel('Time/h',font2)\n",
    "axes[1].legend(loc='upper left',prop=font2)\n",
    "#axes[1].legend(fontsize = 12, loc = 2, bbox_to_anchor=(1.05,1.0),borderaxespad = 0.)\n",
    "\n",
    "plt.savefig(\"f_PCA3.png\", dpi=1000, bbox_inches = 'tight')\n",
    "\n",
    "plt.show()\n",
    "\n",
    "plt.clf()"
   ]
  },
  {
   "cell_type": "code",
   "execution_count": null,
   "metadata": {},
   "outputs": [],
   "source": [
    "cm_plot(Y3,Yhat3)\n",
    "cm_plot(Y4,Yhat4)"
   ]
  },
  {
   "cell_type": "code",
   "execution_count": null,
   "metadata": {},
   "outputs": [],
   "source": []
  }
 ],
 "metadata": {
  "kernelspec": {
   "display_name": "Python 3",
   "language": "python",
   "name": "python3"
  },
  "language_info": {
   "codemirror_mode": {
    "name": "ipython",
    "version": 3
   },
   "file_extension": ".py",
   "mimetype": "text/x-python",
   "name": "python",
   "nbconvert_exporter": "python",
   "pygments_lexer": "ipython3",
   "version": "3.8.3"
  }
 },
 "nbformat": 4,
 "nbformat_minor": 2
}