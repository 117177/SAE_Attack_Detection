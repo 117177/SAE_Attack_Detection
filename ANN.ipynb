{
 "cells": [
  {
   "cell_type": "code",
   "execution_count": 41,
   "metadata": {},
   "outputs": [],
   "source": [
    "import tensorflow as tf\n",
    "from keras.layers import Input, Dense\n",
    "from keras.models import Model, load_model\n",
    "from keras import backend as K\n",
    "import numpy as np\n",
    "import pandas as pd\n",
    "import matplotlib.pyplot as plt\n",
    "import os\n",
    "import seaborn as sns\n",
    "from keras.callbacks import *\n",
    "from keras import regularizers\n",
    "from keras import optimizers\n",
    "from keras.models import Sequential\n",
    "from keras.layers import Dense\n",
    "# sklearn\n",
    "from sklearn.model_selection import train_test_split\n",
    "# from sklearn.metrics import mean_squared_error\n",
    "from sklearn.metrics import accuracy_score, f1_score, confusion_matrix, auc, precision_score, recall_score\n",
    "from sklearn.preprocessing import MinMaxScaler\n",
    "\n",
    "# other\n",
    "import time\n",
    "np.random.seed(7)"
   ]
  },
  {
   "cell_type": "code",
   "execution_count": 42,
   "metadata": {},
   "outputs": [],
   "source": [
    "# load training dataset\n",
    "data_path = \"./data/\"\n",
    "df_train_orig = pd.read_csv(data_path + \"dataset03.csv\", parse_dates = ['DATETIME'], dayfirst=True)"
   ]
  },
  {
   "cell_type": "code",
   "execution_count": 43,
   "metadata": {},
   "outputs": [],
   "source": [
    "# get dates and columns with sensor readings\n",
    "dates_train = df_train_orig['DATETIME']\n",
    "sensor_cols = [col for col in df_train_orig.columns if col not in ['DATETIME','ATT_FLAG']]\n",
    "\n",
    "# scale sensor data\n",
    "scaler = MinMaxScaler()\n",
    "X = pd.DataFrame(index = df_train_orig.index, columns = sensor_cols, data = scaler.fit_transform(df_train_orig[sensor_cols]))\n",
    "\n",
    "# split into training and validation\n",
    "X1, X2, _, _  = train_test_split(X, X, test_size=0.33, random_state=42)\n",
    "#X:8761,X1:5869,X2:2892"
   ]
  },
  {
   "cell_type": "code",
   "execution_count": 44,
   "metadata": {},
   "outputs": [],
   "source": [
    "# get dates and columns with sensor readings\n",
    "dates_train = df_train_orig['DATETIME']\n",
    "sensor_cols = [col for col in df_train_orig.columns if col not in ['DATETIME','ATT_FLAG']]\n",
    "\n",
    "# scale sensor data\n",
    "scaler = MinMaxScaler()\n",
    "X = pd.DataFrame(index = df_train_orig.index, columns = sensor_cols, data = scaler.fit_transform(df_train_orig[sensor_cols]))\n",
    "\n",
    "# split into training and validation\n",
    "X1, X2, _, _  = train_test_split(X, X, test_size=0.33, random_state=42)\n",
    "#X:8761,X1:5869,X2:2892"
   ]
  },
  {
   "cell_type": "code",
   "execution_count": 45,
   "metadata": {},
   "outputs": [],
   "source": [
    "# Load dataset with attacks\n",
    "df_test_01 = pd.read_csv(data_path + \"dataset04.csv\", parse_dates = ['DATETIME'], dayfirst=True)\n",
    "df_test_02 = pd.read_csv(data_path + \"test_dataset.csv\", parse_dates = ['DATETIME'], dayfirst=True)\n",
    "\n",
    "# scale datasets\n",
    "X3 = pd.DataFrame(index = df_test_01.index, columns = sensor_cols, \n",
    "                  data = scaler.transform(df_test_01[sensor_cols]))\n",
    "X4 = pd.DataFrame(index = df_test_02.index, columns = sensor_cols, \n",
    "                  data = scaler.transform(df_test_02[sensor_cols]))\n",
    "\n",
    "# get targets\n",
    "Y3 = df_test_01['ATT_FLAG']\n",
    "Y4 = df_test_02['ATT_FLAG']\n",
    "#Y3:valid_label,4177;Y4:test_label,2089"
   ]
  },
  {
   "cell_type": "code",
   "execution_count": 46,
   "metadata": {},
   "outputs": [],
   "source": [
    "def f2_score(label, predict):\n",
    "    p = precision_score(label, predict)\n",
    "    r = recall_score(label, predict)\n",
    "    f2_score = 5*p*r / (4*p + r)\n",
    "    return f2_score"
   ]
  },
  {
   "cell_type": "code",
   "execution_count": 47,
   "metadata": {},
   "outputs": [],
   "source": [
    "# assess detection\n",
    "def compute_scores(Y,Yhat):\n",
    "    return [accuracy_score(Y,Yhat),f1_score(Y,Yhat),precision_score(Y,Yhat),recall_score(Y,Yhat),f2_score(Y,Yhat)]"
   ]
  },
  {
   "cell_type": "code",
   "execution_count": 48,
   "metadata": {},
   "outputs": [],
   "source": [
    "def cm_plot(original_label, predict_label, pic=None):\n",
    "    cm = confusion_matrix(original_label, predict_label)   # 由原标签和预测标签生成混淆矩阵\n",
    "    plt.figure(figsize = (10,10))\n",
    "    plt.matshow(cm, cmap=plt.cm.Blues)     # 画混淆矩阵，配色风格使用cm.Blues\n",
    "    plt.colorbar()    # 颜色标签\n",
    "    for x in range(len(cm)):\n",
    "        for y in range(len(cm)):\n",
    "            plt.annotate(cm[x, y], xy=(x, y), horizontalalignment='center', verticalalignment='center')\n",
    "            # annotate主要在图形中添加注释\n",
    "            # 第一个参数添加注释\n",
    "            # 第二个参数是注释的内容\n",
    "            # xy设置箭头尖的坐标\n",
    "            # horizontalalignment水平对齐\n",
    "            # verticalalignment垂直对齐\n",
    "            # 其余常用参数如下:\n",
    "            # xytext设置注释内容显示的起始位置\n",
    "            # arrowprops 用来设置箭头\n",
    "            # facecolor 设置箭头的颜色\n",
    "            # headlength 箭头的头的长度\n",
    "            # headwidth 箭头的宽度\n",
    "            # width 箭身的宽度\n",
    "    plt.ylabel('True label')  # 坐标轴标签\n",
    "    plt.xlabel('Predicted label')  # 坐标轴标签\n",
    "    plt.title('confusion matrix')\n",
    "    if pic is not None:\n",
    "        plt.savefig(str(pic) + '.jpg')\n",
    "    plt.show()"
   ]
  },
  {
   "cell_type": "code",
   "execution_count": 49,
   "metadata": {},
   "outputs": [],
   "source": [
    "def pred_error(preds,x):\n",
    "        #preds = preds.reshape(preds.shape[0],preds.shape[1])\n",
    "        #x=x.reshape(x.shape[0],x.shape[1])\n",
    "        errors = (x-preds)**2\n",
    "        return preds, errors"
   ]
  },
  {
   "cell_type": "code",
   "execution_count": 50,
   "metadata": {},
   "outputs": [],
   "source": [
    "def detect(preds,x, theta, window = 1, average=False, sys_theta = 0):\n",
    "        preds, temp = pred_error(preds,x)\n",
    "        #x=x.reshape(x.shape[0],x.shape[1])\n",
    "        temp = (x-preds)**2\n",
    "        #temp = pd.DataFrame(temp)\n",
    "        if average:\n",
    "            errors = temp.mean(axis=1).rolling(window=window).mean()\n",
    "            detection = errors > theta\n",
    "        else:\n",
    "            errors = temp.rolling(window=window).mean()\n",
    "            detection = errors.apply(lambda x: x>np.max(theta.name, sys_theta))\n",
    "\n",
    "        return detection, errors"
   ]
  },
  {
   "cell_type": "code",
   "execution_count": 51,
   "metadata": {},
   "outputs": [
    {
     "name": "stdout",
     "output_type": "stream",
     "text": [
      "WARNING:tensorflow:`epsilon` argument is deprecated and will be removed, use `min_delta` instead.\n"
     ]
    },
    {
     "name": "stderr",
     "output_type": "stream",
     "text": [
      "D:\\anaconda\\Anaconda\\lib\\site-packages\\keras\\optimizer_v2\\adam.py:105: UserWarning: The `lr` argument is deprecated, use `learning_rate` instead.\n",
      "  super(Adam, self).__init__(name, **kwargs)\n"
     ]
    }
   ],
   "source": [
    "adam = tf.optimizers.Adam(lr = 0.001)\n",
    "# train models with early stopping and reduction of learning rate on plateau\n",
    "earlyStopping= EarlyStopping(monitor='val_loss', patience=3, verbose=0,  min_delta=1e-4, mode='auto')\n",
    "lr_reduced = ReduceLROnPlateau(monitor='val_loss', factor=0.5, patience=1, verbose=0, epsilon=1e-4, mode='min')"
   ]
  },
  {
   "cell_type": "code",
   "execution_count": 52,
   "metadata": {
    "scrolled": true
   },
   "outputs": [
    {
     "name": "stdout",
     "output_type": "stream",
     "text": [
      "Epoch 1/150\n",
      "184/184 - 1s - loss: 0.1389 - val_loss: 0.0718 - lr: 0.0010 - 520ms/epoch - 3ms/step\n",
      "Epoch 2/150\n",
      "184/184 - 0s - loss: 0.0650 - val_loss: 0.0552 - lr: 0.0010 - 138ms/epoch - 752us/step\n",
      "Epoch 3/150\n",
      "184/184 - 0s - loss: 0.0486 - val_loss: 0.0407 - lr: 0.0010 - 155ms/epoch - 845us/step\n",
      "Epoch 4/150\n",
      "184/184 - 0s - loss: 0.0359 - val_loss: 0.0296 - lr: 0.0010 - 161ms/epoch - 873us/step\n",
      "Epoch 5/150\n",
      "184/184 - 0s - loss: 0.0263 - val_loss: 0.0219 - lr: 0.0010 - 135ms/epoch - 732us/step\n",
      "Epoch 6/150\n",
      "184/184 - 0s - loss: 0.0200 - val_loss: 0.0168 - lr: 0.0010 - 135ms/epoch - 736us/step\n",
      "Epoch 7/150\n",
      "184/184 - 0s - loss: 0.0157 - val_loss: 0.0135 - lr: 0.0010 - 155ms/epoch - 842us/step\n",
      "Epoch 8/150\n",
      "184/184 - 0s - loss: 0.0129 - val_loss: 0.0116 - lr: 0.0010 - 141ms/epoch - 764us/step\n",
      "Epoch 9/150\n",
      "184/184 - 0s - loss: 0.0114 - val_loss: 0.0105 - lr: 0.0010 - 146ms/epoch - 795us/step\n",
      "Epoch 10/150\n",
      "184/184 - 0s - loss: 0.0105 - val_loss: 0.0099 - lr: 0.0010 - 137ms/epoch - 746us/step\n",
      "Epoch 11/150\n",
      "184/184 - 0s - loss: 0.0099 - val_loss: 0.0092 - lr: 0.0010 - 139ms/epoch - 758us/step\n",
      "Epoch 12/150\n",
      "184/184 - 0s - loss: 0.0093 - val_loss: 0.0087 - lr: 0.0010 - 144ms/epoch - 781us/step\n",
      "Epoch 13/150\n",
      "184/184 - 0s - loss: 0.0088 - val_loss: 0.0083 - lr: 0.0010 - 133ms/epoch - 721us/step\n",
      "Epoch 14/150\n",
      "184/184 - 0s - loss: 0.0083 - val_loss: 0.0078 - lr: 0.0010 - 139ms/epoch - 757us/step\n",
      "Epoch 15/150\n",
      "184/184 - 0s - loss: 0.0079 - val_loss: 0.0074 - lr: 0.0010 - 136ms/epoch - 738us/step\n",
      "Epoch 16/150\n",
      "184/184 - 0s - loss: 0.0075 - val_loss: 0.0073 - lr: 0.0010 - 137ms/epoch - 746us/step\n",
      "Epoch 17/150\n",
      "184/184 - 0s - loss: 0.0071 - val_loss: 0.0068 - lr: 0.0010 - 144ms/epoch - 781us/step\n",
      "Epoch 18/150\n",
      "184/184 - 0s - loss: 0.0068 - val_loss: 0.0065 - lr: 0.0010 - 146ms/epoch - 794us/step\n",
      "Epoch 19/150\n",
      "184/184 - 0s - loss: 0.0065 - val_loss: 0.0062 - lr: 0.0010 - 151ms/epoch - 819us/step\n",
      "Epoch 20/150\n",
      "184/184 - 0s - loss: 0.0063 - val_loss: 0.0060 - lr: 0.0010 - 145ms/epoch - 785us/step\n",
      "Epoch 21/150\n",
      "184/184 - 0s - loss: 0.0061 - val_loss: 0.0058 - lr: 0.0010 - 148ms/epoch - 804us/step\n",
      "Epoch 22/150\n",
      "184/184 - 0s - loss: 0.0058 - val_loss: 0.0056 - lr: 0.0010 - 143ms/epoch - 780us/step\n",
      "Epoch 23/150\n",
      "184/184 - 0s - loss: 0.0056 - val_loss: 0.0054 - lr: 0.0010 - 148ms/epoch - 803us/step\n",
      "Epoch 24/150\n",
      "184/184 - 0s - loss: 0.0054 - val_loss: 0.0052 - lr: 0.0010 - 142ms/epoch - 773us/step\n",
      "Epoch 25/150\n",
      "184/184 - 0s - loss: 0.0053 - val_loss: 0.0051 - lr: 0.0010 - 139ms/epoch - 756us/step\n",
      "Epoch 26/150\n",
      "184/184 - 0s - loss: 0.0051 - val_loss: 0.0049 - lr: 5.0000e-04 - 138ms/epoch - 749us/step\n",
      "Epoch 27/150\n",
      "184/184 - 0s - loss: 0.0050 - val_loss: 0.0048 - lr: 5.0000e-04 - 136ms/epoch - 737us/step\n",
      "Epoch 28/150\n",
      "184/184 - 0s - loss: 0.0049 - val_loss: 0.0048 - lr: 2.5000e-04 - 142ms/epoch - 769us/step\n",
      "Epoch 29/150\n",
      "184/184 - 0s - loss: 0.0049 - val_loss: 0.0047 - lr: 2.5000e-04 - 142ms/epoch - 773us/step\n",
      "Epoch 30/150\n",
      "184/184 - 0s - loss: 0.0048 - val_loss: 0.0047 - lr: 1.2500e-04 - 140ms/epoch - 762us/step\n",
      "Epoch 31/150\n",
      "184/184 - 0s - loss: 0.0048 - val_loss: 0.0047 - lr: 6.2500e-05 - 142ms/epoch - 774us/step\n"
     ]
    }
   ],
   "source": [
    "# create model  MLP\n",
    "model = Sequential()\n",
    "model.add(Dense(X1.shape[1], input_dim=X1.shape[1], activation='tanh'))\n",
    "model.add(Dense(10, activation='tanh'))\n",
    "model.add(Dense(10, activation='tanh'))\n",
    "model.add(Dense(X1.shape[1], activation='tanh'))\n",
    "# Compile model\n",
    "model.compile(loss='mse', optimizer=adam)\n",
    "# Fit the model\n",
    "hist = model.fit(X1, \n",
    "          X1, \n",
    "          epochs=150, \n",
    "          batch_size=32,\n",
    "          callbacks = [earlyStopping, lr_reduced],\n",
    "          shuffle=True,\n",
    "          validation_data=(X2,X2),\n",
    "          verbose=2)"
   ]
  },
  {
   "cell_type": "code",
   "execution_count": 53,
   "metadata": {},
   "outputs": [
    {
     "data": {
      "text/plain": [
       "<Figure size 432x288 with 0 Axes>"
      ]
     },
     "metadata": {},
     "output_type": "display_data"
    },
    {
     "data": {
      "image/png": "[encoded data removed]",
      "text/plain": [
       "<Figure size 432x288 with 1 Axes>"
      ]
     },
     "metadata": {
      "needs_background": "light"
     },
     "output_type": "display_data"
    }
   ],
   "source": [
    "plt.figure()\n",
    " \n",
    "#acc = hist.history['acc']\n",
    "#val_acc = hist.history['val_acc']\n",
    "loss = hist.history['loss']\n",
    "val_loss = hist.history['val_loss']\n",
    " \n",
    "epochs = range(len(loss))\n",
    " \n",
    "#plt.plot(epochs, acc, 'bo', label='Training acc') # 'bo'为画蓝色圆点，不连线\n",
    "#plt.plot(epochs, val_acc, 'b', label='Validation acc') \n",
    "#plt.title('Training and validation accuracy')\n",
    "#plt.legend() # 绘制图例，默认在右上角\n",
    " \n",
    "plt.figure()\n",
    " \n",
    "plt.plot(epochs, loss, 'y', label='Training loss',linestyle='-.')\n",
    "plt.plot(epochs, val_loss, 'b', label='Validation loss',linestyle='-.')\n",
    "plt.title('ANN Training and validation loss')\n",
    "plt.legend()\n",
    " \n",
    "plt.show()"
   ]
  },
  {
   "cell_type": "code",
   "execution_count": 54,
   "metadata": {},
   "outputs": [
    {
     "name": "stdout",
     "output_type": "stream",
     "text": [
      "X1:            L_T1      L_T2      L_T3      L_T4      L_T5      L_T6      L_T7  \\\n",
      "1170  0.488651  0.104012  0.765328  0.412776  0.353596  0.998148  0.445513   \n",
      "579   0.637068  0.161366  0.928084  0.863257  0.248246  1.000000  0.942362   \n",
      "2182  0.057699  0.743728  0.116650  0.597058  0.441985  1.000000  0.171913   \n",
      "3608  0.732718  0.650633  0.390592  0.803850  0.849509  1.000000  0.663370   \n",
      "2943  0.781443  0.942844  0.642789  0.411625  0.226870  0.191905  0.256424   \n",
      "...        ...       ...       ...       ...       ...       ...       ...   \n",
      "5734  0.663908  0.664919  0.067533  0.196580  0.586857  1.000000  0.517095   \n",
      "5191  0.881324  0.625040  0.606332  0.622719  0.129357  0.345422  0.488734   \n",
      "5390  0.904002  0.159823  0.587101  0.797103  0.615039  1.000000  0.488651   \n",
      "860   0.279351  0.967521  0.414285  0.691745  0.573086  1.000000  0.846572   \n",
      "7270  0.559075  0.660803  0.098045  0.392398  0.190758  1.000000  0.716468   \n",
      "\n",
      "         F_PU1  S_PU1     F_PU2  ...    P_J300    P_J256    P_J289    P_J415  \\\n",
      "1170  0.950988    0.0  0.000000  ...  0.419968  0.204727  0.414222  0.569502   \n",
      "579   0.794851    0.0  0.000000  ...  0.705825  0.364304  0.704468  0.290243   \n",
      "2182  0.351095    0.0  0.984407  ...  0.589784  0.761972  0.593605  0.613677   \n",
      "3608  0.823125    0.0  0.000000  ...  0.641696  0.182542  0.636927  0.611314   \n",
      "2943  0.245157    0.0  0.945031  ...  0.810592  0.877263  0.818372  0.116040   \n",
      "...        ...    ...       ...  ...       ...       ...       ...       ...   \n",
      "5734  0.297535    0.0  0.964499  ...  0.577769  0.727407  0.581625  0.568587   \n",
      "5191  0.774480    0.0  0.000000  ...  0.662639  0.327779  0.658098  0.659991   \n",
      "5390  0.726183    0.0  0.000000  ...  0.056185  0.766674  0.056025  0.568352   \n",
      "860   0.307298    0.0  0.968128  ...  0.880604  0.157619  0.880053  0.112473   \n",
      "7270  0.221325    0.0  0.936173  ...  0.225407  0.690598  0.227025  0.565468   \n",
      "\n",
      "        P_J302    P_J306    P_J307    P_J317     P_J14    P_J422  \n",
      "1170  0.146249  0.723573  0.151256  0.337336  0.055807  0.419769  \n",
      "579   0.617766  0.139490  0.617331  0.585299  0.257116  0.698928  \n",
      "2182  0.188692  0.736878  0.193054  0.321977  0.204447  0.625892  \n",
      "3608  0.282970  0.787843  0.286414  0.412944  0.220078  0.647567  \n",
      "2943  0.644705  0.092227  0.643020  0.367851  0.347107  0.823722  \n",
      "...        ...       ...       ...       ...       ...       ...  \n",
      "5734  0.603735  0.081972  0.602679  0.385633  0.202720  0.623496  \n",
      "5191  0.632556  0.122471  0.631265  0.425220  0.237933  0.672327  \n",
      "5390  0.672747  0.125132  0.671174  0.491755  0.619255  0.056006  \n",
      "860   0.249763  0.762281  0.253771  0.438584  0.379771  0.869017  \n",
      "7270  0.312238  0.757288  0.315243  0.403853  0.662259  0.234222  \n",
      "\n",
      "[5869 rows x 43 columns]\n",
      "X1_pre:  [[0.61145526 0.09715771 0.5820768  ... 0.39972478 0.01158332 0.45968428]\n",
      " [0.6585341  0.2487609  0.81576246 ... 0.4569692  0.2814635  0.6962119 ]\n",
      " [0.0058026  0.7524983  0.03040673 ... 0.34897852 0.20140967 0.6035239 ]\n",
      " ...\n",
      " [0.8624794  0.20176052 0.546058   ... 0.45505884 0.6428648  0.07852876]\n",
      " [0.27839914 0.8411012  0.4886958  ... 0.42421445 0.42226395 0.8359038 ]\n",
      " [0.57393235 0.59071153 0.05236427 ... 0.39740276 0.6720085  0.18974881]]\n",
      "X2:            L_T1      L_T2      L_T3      L_T4      L_T5      L_T6      L_T7  \\\n",
      "2484  0.503288  0.628100  0.301181  0.807946  0.623132  1.000000  0.467174   \n",
      "2531  0.317820  0.884018  0.084383  0.861795  0.635605  1.000000  0.652040   \n",
      "1699  0.671895  0.350503  0.501799  0.778496  0.670207  0.167807  0.294398   \n",
      "2373  0.346618  0.413826  0.220880  0.414900  0.395507  1.000000  0.613886   \n",
      "3767  0.131814  0.306747  0.291241  0.731739  0.760043  0.784704  0.247096   \n",
      "...        ...       ...       ...       ...       ...       ...       ...   \n",
      "3207  0.793948  0.073389  0.836172  0.360720  0.689683  1.000000  0.597541   \n",
      "4051  0.735200  0.435491  0.394905  0.740610  0.301481  0.625459  0.383081   \n",
      "7213  0.706665  0.460136  0.335821  0.429391  0.623405  0.575345  0.297490   \n",
      "4692  0.871595  0.479490  0.201197  0.638537  0.654393  1.000000  0.496041   \n",
      "4092  0.526767  0.574696  0.330596  0.247868  0.460815  1.000000  0.904994   \n",
      "\n",
      "         F_PU1  S_PU1     F_PU2  ...    P_J300    P_J256    P_J289    P_J415  \\\n",
      "2484  0.195814    0.0  0.926691  ...  0.222624  0.710540  0.224163  0.594812   \n",
      "2531  0.312192    0.0  0.969947  ...  0.720049  0.165247  0.715608  0.620280   \n",
      "1699  0.289251    0.0  0.961420  ...  0.573437  0.165291  0.568326  0.584456   \n",
      "2373  0.892091    0.0  0.000000  ...  0.539743  0.194439  0.534465  0.572102   \n",
      "3767  0.372196    0.0  0.992250  ...  0.433718  0.750063  0.436432  0.584871   \n",
      "...        ...    ...       ...  ...       ...       ...       ...       ...   \n",
      "3207  0.260088    0.0  0.950581  ...  0.382545  0.770346  0.384748  0.586604   \n",
      "4051  0.286292    0.0  0.960320  ...  0.601396  0.070280  0.596400  0.587363   \n",
      "7213  0.190779    0.0  0.924819  ...  0.159980  0.750776  0.160654  0.557985   \n",
      "4692  0.734769    0.0  0.000000  ...  0.166712  0.733183  0.167601  0.568953   \n",
      "4092  0.193262    0.0  0.925742  ...  0.207022  0.768499  0.207944  0.572966   \n",
      "\n",
      "        P_J302    P_J306    P_J307    P_J317     P_J14    P_J422  \n",
      "2484  0.335075  0.806304  0.337796  0.410931  0.688248  0.230204  \n",
      "2531  0.262521  0.806226  0.266362  0.440770  0.276150  0.725323  \n",
      "1699  0.289111  0.752617  0.292270  0.364514  0.175067  0.585149  \n",
      "2373  0.504896  0.081525  0.505231  0.396072  0.144243  0.542405  \n",
      "3767  0.184898  0.743032  0.189381  0.339009  0.092276  0.470341  \n",
      "...        ...       ...       ...       ...       ...       ...  \n",
      "3207  0.649258  0.148613  0.647973  0.483470  0.064434  0.431733  \n",
      "4051  0.295382  0.764779  0.298392  0.348772  0.195254  0.613143  \n",
      "7213  0.342438  0.789767  0.344797  0.347077  0.708670  0.164832  \n",
      "4692  0.348629  0.805721  0.351145  0.406292  0.602207  0.172001  \n",
      "4092  0.350313  0.800036  0.353218  0.505178  0.693479  0.213133  \n",
      "\n",
      "[2892 rows x 43 columns]\n",
      "X2_pre:  [[0.6625074  0.62526375 0.2015102  ... 0.42043117 0.6722223  0.25337404]\n",
      " [0.26612893 0.8240405  0.29865178 ... 0.41080326 0.3481494  0.7044483 ]\n",
      " [0.65744054 0.48364642 0.58487165 ... 0.32109073 0.225786   0.6116798 ]\n",
      " ...\n",
      " [0.7972721  0.48945573 0.29911292 ... 0.36551493 0.6648352  0.17437196]\n",
      " [0.81550676 0.46466824 0.24604566 ... 0.41840547 0.6226108  0.1743114 ]\n",
      " [0.6567295  0.5623879  0.22382042 ... 0.4097317  0.6767138  0.17450637]]\n",
      "X3:            L_T1      L_T2      L_T3      L_T4      L_T5      L_T6      L_T7  \\\n",
      "0     0.465785  0.921079  0.120444  0.780302  0.546007  1.000000  0.845487   \n",
      "1     0.514124  0.788861  0.124365  0.810058  0.695860  0.911163  0.880971   \n",
      "2     0.612998  0.626847  0.304745  0.821216  0.897987  0.481784  0.548941   \n",
      "3     0.725056  0.511390  0.504731  0.757985  0.789953  0.230080  0.341106   \n",
      "4     0.826128  0.444350  0.724324  0.445547  0.633131  0.837132  0.609771   \n",
      "...        ...       ...       ...       ...       ...       ...       ...   \n",
      "4172  0.511926  0.386621  0.379250  0.386035  0.880562  0.170855  0.287879   \n",
      "4173  0.421841  0.422003  0.210634  0.341401  0.835258  0.289304  0.232119   \n",
      "4174  0.349332  0.459247  0.026333  0.181462  0.490248  0.466978  0.206773   \n",
      "4175  0.263641  0.414554  0.175342  0.010365  0.138268  0.407754  0.085113   \n",
      "4176  0.171358  0.340065  0.332194  0.270730  0.099934  0.452172  0.034421   \n",
      "\n",
      "         F_PU1  S_PU1     F_PU2  ...    P_J300    P_J256    P_J289    P_J415  \\\n",
      "0     0.218616    0.0  0.935184  ...  0.580945  0.165221  0.575953  0.607736   \n",
      "1     0.105207    0.0  0.893044  ...  0.286288  0.758165  0.287587  0.588202   \n",
      "2     0.117838    0.0  0.897637  ...  0.244412  0.810336  0.245518  0.631957   \n",
      "3     0.070002    0.0  0.879962  ...  0.485010  0.900298  0.490285  0.273326   \n",
      "4     0.040709    0.0  0.869077  ...  0.459885  0.904645  0.464278  0.273130   \n",
      "...        ...    ...       ...  ...       ...       ...       ...       ...   \n",
      "4172  0.929438    0.0  0.000000  ...  0.516989  0.166224  0.511702  0.573943   \n",
      "4173  0.903639    0.0  0.000000  ...  0.539069  0.118401  0.533119  0.560660   \n",
      "4174  0.946369    0.0  0.000000  ...  0.467498  0.687935  0.470397  0.548159   \n",
      "4175  0.927826    0.0  0.000000  ...  0.389837  0.705325  0.389318  0.954647   \n",
      "4176  0.936157    0.0  0.000000  ...  0.379939  0.803313  0.378610  0.999183   \n",
      "\n",
      "        P_J302    P_J306    P_J307    P_J317     P_J14    P_J422  \n",
      "0     0.320168  0.793873  0.323083  0.456191  0.658474  0.568334  \n",
      "1     0.697338  0.920791  0.700884  0.181257  0.818578  0.295500  \n",
      "2     0.699196  0.953985  0.702720  0.152932  0.808994  0.249376  \n",
      "3     0.780482  0.192804  0.777086  0.463160  0.878899  0.469832  \n",
      "4     0.812997  0.192153  0.809220  0.468331  0.921744  0.443252  \n",
      "...        ...       ...       ...       ...       ...       ...  \n",
      "4172  0.169672  0.759703  0.174350  0.322433  0.125734  0.516738  \n",
      "4173  0.492496  0.082158  0.492933  0.341542  0.143210  0.540972  \n",
      "4174  0.448833  0.040178  0.449782  0.323333  0.114459  0.501103  \n",
      "4175  0.463233  0.022279  0.464013  0.330976  0.074996  0.446380  \n",
      "4176  0.156202  0.726509  0.161497  0.351208  0.062030  0.428399  \n",
      "\n",
      "[4177 rows x 43 columns]\n",
      "X3_pre:  [[ 0.5720233   0.84969693  0.07168018 ...  0.4122837   0.73033124\n",
      "   0.53763425]\n",
      " [ 0.5795146   0.73843193  0.26026392 ...  0.08400017  0.72163117\n",
      "   0.3244481 ]\n",
      " [ 0.7391982   0.6953434   0.4289372  ...  0.06026978  0.71567214\n",
      "   0.3382647 ]\n",
      " ...\n",
      " [ 0.20757538  0.6071142   0.08025052 ...  0.30054182  0.04359859\n",
      "   0.50766844]\n",
      " [ 0.1702466   0.46735302  0.18201816 ...  0.3250848  -0.14186816\n",
      "   0.4018213 ]\n",
      " [ 0.2969087   0.4842242   0.09438325 ...  0.28551328 -0.08940613\n",
      "   0.4509709 ]]\n",
      "X4:            L_T1      L_T2      L_T3      L_T4      L_T5      L_T6      L_T7  \\\n",
      "2484  0.503288  0.628100  0.301181  0.807946  0.623132  1.000000  0.467174   \n",
      "2531  0.317820  0.884018  0.084383  0.861795  0.635605  1.000000  0.652040   \n",
      "1699  0.671895  0.350503  0.501799  0.778496  0.670207  0.167807  0.294398   \n",
      "2373  0.346618  0.413826  0.220880  0.414900  0.395507  1.000000  0.613886   \n",
      "3767  0.131814  0.306747  0.291241  0.731739  0.760043  0.784704  0.247096   \n",
      "...        ...       ...       ...       ...       ...       ...       ...   \n",
      "3207  0.793948  0.073389  0.836172  0.360720  0.689683  1.000000  0.597541   \n",
      "4051  0.735200  0.435491  0.394905  0.740610  0.301481  0.625459  0.383081   \n",
      "7213  0.706665  0.460136  0.335821  0.429391  0.623405  0.575345  0.297490   \n",
      "4692  0.871595  0.479490  0.201197  0.638537  0.654393  1.000000  0.496041   \n",
      "4092  0.526767  0.574696  0.330596  0.247868  0.460815  1.000000  0.904994   \n",
      "\n",
      "         F_PU1  S_PU1     F_PU2  ...    P_J300    P_J256    P_J289    P_J415  \\\n",
      "2484  0.195814    0.0  0.926691  ...  0.222624  0.710540  0.224163  0.594812   \n",
      "2531  0.312192    0.0  0.969947  ...  0.720049  0.165247  0.715608  0.620280   \n",
      "1699  0.289251    0.0  0.961420  ...  0.573437  0.165291  0.568326  0.584456   \n",
      "2373  0.892091    0.0  0.000000  ...  0.539743  0.194439  0.534465  0.572102   \n",
      "3767  0.372196    0.0  0.992250  ...  0.433718  0.750063  0.436432  0.584871   \n",
      "...        ...    ...       ...  ...       ...       ...       ...       ...   \n",
      "3207  0.260088    0.0  0.950581  ...  0.382545  0.770346  0.384748  0.586604   \n",
      "4051  0.286292    0.0  0.960320  ...  0.601396  0.070280  0.596400  0.587363   \n",
      "7213  0.190779    0.0  0.924819  ...  0.159980  0.750776  0.160654  0.557985   \n",
      "4692  0.734769    0.0  0.000000  ...  0.166712  0.733183  0.167601  0.568953   \n",
      "4092  0.193262    0.0  0.925742  ...  0.207022  0.768499  0.207944  0.572966   \n",
      "\n",
      "        P_J302    P_J306    P_J307    P_J317     P_J14    P_J422  \n",
      "2484  0.335075  0.806304  0.337796  0.410931  0.688248  0.230204  \n",
      "2531  0.262521  0.806226  0.266362  0.440770  0.276150  0.725323  \n",
      "1699  0.289111  0.752617  0.292270  0.364514  0.175067  0.585149  \n",
      "2373  0.504896  0.081525  0.505231  0.396072  0.144243  0.542405  \n",
      "3767  0.184898  0.743032  0.189381  0.339009  0.092276  0.470341  \n",
      "...        ...       ...       ...       ...       ...       ...  \n",
      "3207  0.649258  0.148613  0.647973  0.483470  0.064434  0.431733  \n",
      "4051  0.295382  0.764779  0.298392  0.348772  0.195254  0.613143  \n",
      "7213  0.342438  0.789767  0.344797  0.347077  0.708670  0.164832  \n",
      "4692  0.348629  0.805721  0.351145  0.406292  0.602207  0.172001  \n",
      "4092  0.350313  0.800036  0.353218  0.505178  0.693479  0.213133  \n",
      "\n",
      "[2892 rows x 43 columns]\n",
      "X4_pre:  [[ 0.17152429  0.5322852   0.5262193  ...  0.43560302  0.04777207\n",
      "   0.54382426]\n",
      " [ 0.14356825  0.48898906  0.6493252  ...  0.46701503  0.08135986\n",
      "   0.52445304]\n",
      " [ 0.3570254   0.37553278  0.7233981  ...  0.11762369  0.13889992\n",
      "   0.49798614]\n",
      " ...\n",
      " [ 0.19743922  0.53157926 -0.10034016 ...  0.24469869  0.01668307\n",
      "   0.48380765]\n",
      " [ 0.14517346  0.52166486  0.23712762 ...  0.31915677  0.03532003\n",
      "   0.5047613 ]\n",
      " [ 0.21074462  0.48644772  0.3532435  ...  0.34453887  0.00566599\n",
      "   0.5197525 ]]\n"
     ]
    }
   ],
   "source": [
    "##### 显示stacked dae重构后的效果 #####\n",
    "X1_pre = model.predict(X1)\n",
    "X2_pre = model.predict(X2)\n",
    "X3_pre = model.predict(X3)\n",
    "X4_pre = model.predict(X4)\n",
    "print('X1: ',X1)\n",
    "print('X1_pre: ',X1_pre)\n",
    "print('X2: ',X2)\n",
    "print('X2_pre: ',X2_pre)\n",
    "print('X3: ',X3)\n",
    "print('X3_pre: ',X3_pre)\n",
    "print('X4: ',X2)\n",
    "print('X4_pre: ',X4_pre)"
   ]
  },
  {
   "cell_type": "code",
   "execution_count": 57,
   "metadata": {},
   "outputs": [
    {
     "name": "stdout",
     "output_type": "stream",
     "text": [
      "0.014275580126020766\n"
     ]
    },
    {
     "data": {
      "image/png": "[encoded data removed]",
      "text/plain": [
       "<Figure size 576x288 with 1 Axes>"
      ]
     },
     "metadata": {
      "needs_background": "light"
     },
     "output_type": "display_data"
    }
   ],
   "source": [
    "# perform detection\n",
    "\n",
    "# get validation reconstruction errors\n",
    "_, validation_errors = pred_error(X2_pre,X2)\n",
    "\n",
    "# plot distribution of average validation reconstruction errors \n",
    "f, ax = plt.subplots(1, figsize = (8,4))\n",
    "sns.boxplot(validation_errors.mean(axis=1), ax=ax)\n",
    "ax.set_xlim([0,0.005])\n",
    "ax.set_title('Boxplot of average validation reconstruction errors')\n",
    "\n",
    "# set treshold as quantile of average reconstruction error\n",
    "theta1 = validation_errors.mean(axis = 1).quantile(0.993)\n",
    "theta2 = validation_errors.mean(axis = 1).quantile(0.989)\n",
    "print(theta1)\n",
    "Yhat3, _ = detect(X3_pre,X3, theta = 0.014 , window = 3, average=True)\n",
    "Yhat4, _ = detect(X4_pre,X4, theta = 0.014, window = 3, average=True)"
   ]
  },
  {
   "cell_type": "code",
   "execution_count": 58,
   "metadata": {},
   "outputs": [
    {
     "name": "stdout",
     "output_type": "stream",
     "text": [
      "Results:\n",
      "\n",
      "                 accuracy  f1_score precision    recall  f2_score\n",
      "test dataset 01   0.93129  0.605227   0.93617  0.447154  0.499319\n",
      "test dataset 02  0.867401  0.502693  0.933333   0.34398  0.393701\n"
     ]
    }
   ],
   "source": [
    "results = pd.DataFrame(index = ['test dataset 01','test dataset 02'], \n",
    "                       columns = ['accuracy','f1_score','precision','recall','f2_score'])\n",
    "results.loc['test dataset 01'] = compute_scores(Y3,Yhat3)\n",
    "results.loc['test dataset 02'] = compute_scores(Y4,Yhat4)\n",
    "\n",
    "print('Results:\\n')\n",
    "print(results)"
   ]
  },
  {
   "cell_type": "code",
   "execution_count": 59,
   "metadata": {},
   "outputs": [
    {
     "data": {
      "image/png": "[encoded data removed]",
      "text/plain": [
       "<Figure size 720x432 with 2 Axes>"
      ]
     },
     "metadata": {
      "needs_background": "light"
     },
     "output_type": "display_data"
    }
   ],
   "source": [
    "# plot figures\n",
    "font2 = {'family' : 'SimHei',#Times New Roman\n",
    "        'weight' : 'normal',\n",
    "        'size'   : 10,\n",
    "            }\n",
    "font1 = {'family' : 'Times New Roman',\n",
    "        'weight' : 'normal',\n",
    "        'size'   : 6,\n",
    "            }\n",
    "shade_of_gray = '0.75'\n",
    "f_ANN, axes = plt.subplots(2,figsize = (10,6))\n",
    "plt.rcParams['font.sans-serif']=['SimHei'] #用来正常显示中文标签\n",
    "axes[0].plot(Yhat3, color = 'r', label = '预测标签')#shade_of_gray\n",
    "axes[0].fill_between(Yhat3.index, Yhat3.values, where=Yhat3.values <=1, interpolate=True, color='r')\n",
    "axes[0].plot(Y3, color = 'b', alpha = 0.75, lw = 2, label = '实际标签')\n",
    "#axes[0].set_title('validation set', font2,loc='left')\n",
    "#axes[0].set_xlabel('Time/h',font2)\n",
    "axes[0].set_yticks([0,1])\n",
    "axes[0].set_yticklabels(['无攻击','攻击'],font2)\n",
    "axes[0].legend(loc='upper left',prop=font2)\n",
    "#axes[0].legend(fontsize = 8, loc = 2, bbox_to_anchor=(1.05,1.0),borderaxespad = 0.)\n",
    "\n",
    "axes[1].plot(Yhat4, color = 'r', label = '预测标签')\n",
    "axes[1].fill_between(Yhat4.index, Yhat4.values, where=Yhat4.values <=1, interpolate=True, color='r')\n",
    "axes[1].plot(Y4, color = 'b', alpha = 0.75, lw = 2, label = '实际标签')\n",
    "#axes[1].set_title('test set', font2,loc='left')\n",
    "#axes[1].set_xlabel('Time/h',font2)\n",
    "axes[1].set_yticks([0,1])\n",
    "axes[1].set_yticklabels(['无攻击','攻击'],font2)\n",
    "axes[1].legend(loc='upper left',prop=font2)\n",
    "#axes[1].legend(fontsize = 8, loc = 2, bbox_to_anchor=(1.05,1.0),borderaxespad = 0.)\n",
    "plt.savefig(\"f_ANN2.png\", dpi=1000, bbox_inches = 'tight')"
   ]
  },
  {
   "cell_type": "code",
   "execution_count": 18,
   "metadata": {},
   "outputs": [
    {
     "data": {
      "text/plain": [
       "<Figure size 720x720 with 0 Axes>"
      ]
     },
     "metadata": {},
     "output_type": "display_data"
    },
    {
     "data": {
      "image/png": "[encoded data removed]",
      "text/plain": [
       "<Figure size 288x288 with 2 Axes>"
      ]
     },
     "metadata": {
      "needs_background": "light"
     },
     "output_type": "display_data"
    },
    {
     "data": {
      "text/plain": [
       "<Figure size 720x720 with 0 Axes>"
      ]
     },
     "metadata": {},
     "output_type": "display_data"
    },
    {
     "data": {
      "image/png": "[encoded data removed]",
      "text/plain": [
       "<Figure size 288x288 with 2 Axes>"
      ]
     },
     "metadata": {
      "needs_background": "light"
     },
     "output_type": "display_data"
    }
   ],
   "source": [
    "cm_plot(Y3,Yhat3)\n",
    "cm_plot(Y4,Yhat4)"
   ]
  },
  {
   "cell_type": "code",
   "execution_count": null,
   "metadata": {},
   "outputs": [],
   "source": []
  }
 ],
 "metadata": {
  "kernelspec": {
   "display_name": "Python 3",
   "language": "python",
   "name": "python3"
  },
  "language_info": {
   "codemirror_mode": {
    "name": "ipython",
    "version": 3
   },
   "file_extension": ".py",
   "mimetype": "text/x-python",
   "name": "python",
   "nbconvert_exporter": "python",
   "pygments_lexer": "ipython3",
   "version": "3.8.3"
  }
 },
 "nbformat": 4,
 "nbformat_minor": 2
}